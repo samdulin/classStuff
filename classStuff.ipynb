{
 "cells": [
  {
   "cell_type": "code",
   "execution_count": 5,
   "id": "fa49aab2-7603-4675-9c56-7bd749b89b9e",
   "metadata": {
    "tags": []
   },
   "outputs": [],
   "source": [
    "import numpy as np"
   ]
  },
  {
   "cell_type": "code",
   "execution_count": 1,
   "id": "f269e45f-d500-4944-9acd-890d3a8ed2af",
   "metadata": {
    "tags": []
   },
   "outputs": [
    {
     "data": {
      "text/plain": [
       "0.30000000000000004"
      ]
     },
     "execution_count": 1,
     "metadata": {},
     "output_type": "execute_result"
    }
   ],
   "source": [
    ".1+.2"
   ]
  },
  {
   "cell_type": "code",
   "execution_count": 3,
   "id": "d3ef09c8-b71a-4c90-92a0-7534284f4f13",
   "metadata": {
    "tags": []
   },
   "outputs": [
    {
     "data": {
      "text/plain": [
       "-0.0024999999999999996"
      ]
     },
     "execution_count": 3,
     "metadata": {},
     "output_type": "execute_result"
    }
   ],
   "source": [
    "-0.0075+0.005"
   ]
  },
  {
   "cell_type": "markdown",
   "id": "b59d91a1-1d2a-4deb-a93b-e63cd909f1ab",
   "metadata": {},
   "source": [
    "Consider the quadratic equation: 0.2x^2 - 47.91x + 6 = 0"
   ]
  },
  {
   "cell_type": "code",
   "execution_count": null,
   "id": "d3580233-49ff-4222-bfc9-ba9cc2f80605",
   "metadata": {
    "tags": []
   },
   "outputs": [],
   "source": [
    "numerator = 47.91 - np.sqrt(2295 - 4.8)\n",
    "denominator = 0.4\n",
    "\n",
    "root = numerator/denominator\n",
    "root"
   ]
  },
  {
   "cell_type": "markdown",
   "id": "2e169084-5598-4f6d-98cd-85e8c146d1b8",
   "metadata": {},
   "source": [
    "Actual root  is 0.1253003555 "
   ]
  }
 ],
 "metadata": {
  "kernelspec": {
   "display_name": "Python 3 (ipykernel)",
   "language": "python",
   "name": "python3"
  },
  "language_info": {
   "codemirror_mode": {
    "name": "ipython",
    "version": 3
   },
   "file_extension": ".py",
   "mimetype": "text/x-python",
   "name": "python",
   "nbconvert_exporter": "python",
   "pygments_lexer": "ipython3",
   "version": "3.9.16"
  }
 },
 "nbformat": 4,
 "nbformat_minor": 5
}
